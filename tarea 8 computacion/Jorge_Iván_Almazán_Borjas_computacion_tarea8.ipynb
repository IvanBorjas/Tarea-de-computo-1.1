{
  "cells": [
    {
      "cell_type": "markdown",
      "metadata": {
        "id": "6khD78d41agq"
      },
      "source": [
        "# Tarea 8: Más listas y ciclos for\n",
        "### Computación - 8108\n",
        "#### Facultad de Ciencias - UNAM\n",
        "#### Profesores: C. Fís. Omar Trejo, C. Fís. Iván Jiménez, Pedro Flores-Silva\n",
        "\n",
        "Instrucciones: Este notebook contiene una serie de ejercicios que deben ser resueltos. Cada ejercicio se encuentra en una celda, ya sea de código o Markdown. Debes crear una o dos *celdas debajo de cada ejercicio* con tu(s) respectiva(s) respuestas. No modifiques las celdas originales.\n",
        "Recuerda que para ejecutar el código de una celda, presionar `Ctlr + Enter` o bien el boton de `play` en el editor Jupyter notebook.\n",
        "\n",
        "Cada ejercicio tendrá diferente valor, y se indicará en la celda de éste. La calificación final será la suma de los puntos obtenidos en cada ejercicio. Se calificará considerando la calidad de la respuesta, la claridad de la explicación y la correctitud del código. Por ejemplo, si el código no ejecuta la respuesta correcta pero se da una idea textual, se demuestra que hay comprensión del problema y el código hace sentido para el revisor, se otorgará una calificación parcial. Esto es, las respuestas no solo se evaluarán como bien o mal, sino que se considerará el esfuerzo. \n",
        "\n",
        "El codigo que realices debes comentarlo donde creas necesario, no vale no hacer ningún comentario. Recuerda que los comentarios son importantes para que el código sea legible y entendible, éstos se agregan con el símbolo # ."
      ]
    },
    {
      "cell_type": "markdown",
      "metadata": {
        "id": "D3EMKl0H1ahP"
      },
      "source": [
        "### Ejercicio 1 (1 punto):\n",
        "Considera la siguiente lista de números: `lista = [1, 2, 2, 2, 465, 465, 787, 788, 99, \"mundo\", \"hola mundo\", \"adios mundo\", \"hola mundo\"]`. A partir de la lista crea otra lista que contenga los elementos únicos e imprimela.\n",
        "\n",
        "No vale crear la lista manualmente, debes hacerlo con código.\n",
        "\n",
        "El resultado debe ser: `[1, 2, 99, 'mundo', 'hola mundo', 465, 787, 788, 'adios mundo']`"
      ]
    },
    {
      "cell_type": "code",
      "source": [
        "lista = [1, 2, 2, 2, 465, 465, 787, 788, 99, \"mundo\", \"hola mundo\", \"adios mundo\", \"hola mundo\"]\n",
        "print(lista)\n",
        "conjunto=set()\n",
        "conjunto=set(lista)\n",
        "lista=list(conjunto)\n",
        "print(lista)"
      ],
      "metadata": {
        "colab": {
          "base_uri": "https://localhost:8080/"
        },
        "id": "1lidGEIF3zGO",
        "outputId": "4451bc89-12f0-4d23-fca0-4e3c1332cd8b"
      },
      "execution_count": null,
      "outputs": [
        {
          "output_type": "stream",
          "name": "stdout",
          "text": [
            "[1, 2, 2, 2, 465, 465, 787, 788, 99, 'mundo', 'hola mundo', 'adios mundo', 'hola mundo']\n",
            "[1, 2, 99, 'adios mundo', 'hola mundo', 465, 787, 788, 'mundo']\n"
          ]
        }
      ]
    },
    {
      "cell_type": "markdown",
      "metadata": {
        "id": "ciarA_sm1ahZ"
      },
      "source": [
        "### Ejercicio 2 (4 puntos): Aproximación de $\\pi$\n",
        "Una de las formas más sencillas de calcular $\\pi$ es mediante la siguiente serie infinita de Leibniz:\n",
        "$$\\frac{\\pi}{4} = \\sum_{n=0}^{\\infty}\\frac{(-1)^{n}}{(2n+1)} = \\frac{1}{1} - \\frac{1}{3} + \\frac{1}{5}-\\frac{1}{7}+\\frac{1}{9}-...$$\n",
        "\n",
        "crea un programa para aproximar $\\pi$ utilizando la serie de Leibniz. Usa n = 100000, imprime el valor de tu aproximación tanto el valor de $\\frac{\\pi}{4}$ como $\\pi$.\n",
        "\n",
        "El valor de $\\pi$ se obtiene al despejar:\n",
        "$$\\pi = 4 * \\left(\\sum_{n=0}^{\\infty}\\frac{(-1)^{n}}{(2n+1)} \\right)$$\n",
        "\n",
        "La siguiente celda de codigo ofrece el valor de $\\frac{\\pi}{4}$"
      ]
    },
    {
      "cell_type": "code",
      "execution_count": null,
      "metadata": {
        "colab": {
          "base_uri": "https://localhost:8080/"
        },
        "id": "5WswkzYc1ahe",
        "outputId": "1b2437a6-a5b7-4f42-8a81-c48f19ed6ffe"
      },
      "outputs": [
        {
          "output_type": "stream",
          "name": "stdout",
          "text": [
            "El valor de pi/4 es aproximadamente 0.7853981633974483\n"
          ]
        }
      ],
      "source": [
        "import numpy as np\n",
        "#El valor de pi/4\n",
        "print(\"El valor de pi/4 es aproximadamente {}\".format(np.pi/4))\n"
      ]
    },
    {
      "cell_type": "markdown",
      "source": [],
      "metadata": {
        "id": "-7h6rTkv9BLZ"
      }
    },
    {
      "cell_type": "code",
      "source": [
        "# definimos una funcion que recibe un valor y despues escribimos en el apartado de resultado la operacion de la suma ´para calcular pi\n",
        "\n",
        "def termino(n):\n",
        "    resultado = ((-1)**n) / (2*n+1)\n",
        "    return resultado\n",
        "#Aquí definimos la suma e hicimos un ciclo for en un rango de 0 a un millon\n",
        "suma = 0;\n",
        "for i in range(0,1000000):\n",
        "# Volvemos a definir la suma con lo que esta dentro de la suma más el termino iesimo\n",
        "     suma = suma + termino(i);\n",
        "# definimos a pi como la suma por 4 para despejar pi \n",
        "pi = suma * 4 ;\n",
        "picuartos = suma \n",
        "\n",
        "print(\"Resultado de pi\")   \n",
        "print(pi);\n",
        "print(\"resultado de pi cuartos\")\n",
        "print(picuartos)\n",
        "\n"
      ],
      "metadata": {
        "colab": {
          "base_uri": "https://localhost:8080/"
        },
        "id": "GvtWn_RsBqXh",
        "outputId": "b5c47f90-23c4-406b-b4f0-b9f3a02ea83b"
      },
      "execution_count": null,
      "outputs": [
        {
          "output_type": "stream",
          "name": "stdout",
          "text": [
            "Resultado de pi\n",
            "3.1415916535897743\n",
            "resultado de pi cuartos\n",
            "0.7853979133974436\n"
          ]
        }
      ]
    },
    {
      "cell_type": "markdown",
      "metadata": {
        "id": "zanVTQIP1ahr"
      },
      "source": [
        "### Ejercicio 3 (4 puntos): Sucesión monótona \n",
        "Una sucesión {$a_n$} es una colección de números relacionados entre sí, en la que se tiene en cuenta la posición relativa de cada número respecto al anterior. Por ejemplo, la sucesión $\\frac{1}{n} = 1, 1/2, 1/3, 1/4, ...$ es convergente a cero ya que cuando $n \\rightarrow \\infty$ el valor de $a_n$ se acerca a cero.\n",
        "\n",
        "Una sucesión podemos verla como una lista, tal que así `[1, 1/2, 1/3,1/10000]` (claramente con un valor maximo, pues en python no podemos tener infinitos elementos en una lista).\n",
        "\n",
        "Considera la sucesión $a_n = 3 - \\frac{1}{n}$, crea un programa que haga una lista con los primeros 10 mil terminos de dicha sucesion (no la imprimas).\n",
        "\n",
        "Imprime los últimos 15 elementos de la lista y discute en una celda Markdown si esta sucesión es convergente y hacía que valor converge. Investiga que condición debe cumplir para que una suceción sea monótona creciente y monótona decreciente, con ello responde si es creciente o decreciente.\t"
      ]
    },
    {
      "cell_type": "code",
      "source": [
        "#creamos una lista para los elementos de la sucesion\n",
        "sucesion = []\n",
        "for i in range(1,10000):\n",
        "#agregamos el resultado a la lista\n",
        "  sucesion.append (3 - (1/i))\n",
        "#seleccionamos los ultimos terminos y los imprimimos \n",
        "ultimos_terminos = sucesion[-15:]\n",
        "\n",
        "\n",
        "print(ultimos_terminos)"
      ],
      "metadata": {
        "colab": {
          "base_uri": "https://localhost:8080/"
        },
        "id": "xBOqY1rfbjGT",
        "outputId": "e61974d2-a535-437c-a7d5-0cde6156d611"
      },
      "execution_count": null,
      "outputs": [
        {
          "output_type": "stream",
          "name": "stdout",
          "text": [
            "[2.999899849774662, 2.999899859803725, 2.99989986983078, 2.999899879855827, 2.9998998898788667, 2.9998998998999, 2.999899909918927, 2.999899919935949, 2.9998999299509657, 2.9998999399639783, 2.9998999499749877, 2.9998999599839937, 2.9998999699909974, 2.999899979995999, 2.9998999899989998]\n"
          ]
        }
      ]
    },
    {
      "cell_type": "markdown",
      "metadata": {
        "id": "4p-_4txk1ahu"
      },
      "source": [
        "### Ejercicio 4 (1 punto):\n",
        "Crea un ciclo for a modo de que la salida sea la siguiente:\n",
        "\n",
        "10\n",
        "\n",
        "9\n",
        "\n",
        "8\n",
        "\n",
        "7\n",
        "\n",
        "6\n",
        "\n",
        "...\n",
        "\n",
        "2\n",
        "\n",
        "1\n",
        "\n",
        "0\n"
      ]
    },
    {
      "cell_type": "code",
      "source": [
        "#lista decreciente\n",
        "\n",
        "#Creo que no hay mucho que explicar, creamos un ciclo for en un rango de 10 a -1 para que se inluya el 1 y por ultimo imprimimos \n",
        "for i  in range(10,-1, -1):\n",
        "    print(i)"
      ],
      "metadata": {
        "colab": {
          "base_uri": "https://localhost:8080/"
        },
        "id": "VgHqGIqJtvsh",
        "outputId": "f5700e2f-0ce8-4b09-cb23-63a3d6318e68"
      },
      "execution_count": null,
      "outputs": [
        {
          "output_type": "stream",
          "name": "stdout",
          "text": [
            "10\n",
            "9\n",
            "8\n",
            "7\n",
            "6\n",
            "5\n",
            "4\n",
            "3\n",
            "2\n",
            "1\n",
            "0\n"
          ]
        }
      ]
    },
    {
      "cell_type": "markdown",
      "metadata": {
        "id": "BjMXAWzt1ahw"
      },
      "source": [
        "### Puntos extras, este ejercicio es opcional (2 puntos):\n",
        "Crea un codigo para calcular el producto punto de dos vectores $\\vec{\\omega}$ y $\\vec{\\eta}$ de dimensión $3$. No vale usar librerias externas, debes hacerlo con ciclos for.\n",
        "\n",
        "Donde $\\vec{\\omega} = (10, 2, -3)$ y $\\vec{\\eta} = (5, -5, 1)$\n",
        "\n",
        "El producto punto de los vectores $\\vec{\\omega}$ y $\\vec{\\eta}$ se define como:\n",
        "$$<\\vec{\\omega},\\vec{\\eta}> = \\vec{\\omega} \\cdot \\vec{\\eta} = \\omega_{1}\\eta_{1} + \\omega_{2}\\eta_{2} + \\omega_{3}\\eta_{3} = 10*5 + 2*(-5) + (-3)*1=37$$"
      ]
    },
    {
      "cell_type": "code",
      "source": [
        "# definimos una variable y a los vectores\n",
        "w = [10,2,-3]\n",
        "n = [5,-5,1]\n",
        "\n",
        "productopunto=0\n",
        "\n",
        "#Hacemos el ciclo for con zip incluido para hacer pares con los elementos de los vectores y definimos el productopunto\n",
        "for w,n in zip(w,n):\n",
        "    productopunto = productopunto + (w*n)\n",
        "    \n",
        "#Se imprime el resultado.\n",
        "print(productopunto)\n"
      ],
      "metadata": {
        "colab": {
          "base_uri": "https://localhost:8080/"
        },
        "id": "5v-ha_dYvFnJ",
        "outputId": "4f3fb071-b359-477e-ae21-e9d2c4ee418b"
      },
      "execution_count": 151,
      "outputs": [
        {
          "output_type": "stream",
          "name": "stdout",
          "text": [
            "37\n"
          ]
        }
      ]
    }
  ],
  "metadata": {
    "kernelspec": {
      "display_name": "Python 3.9.13 ('base')",
      "language": "python",
      "name": "python3"
    },
    "language_info": {
      "codemirror_mode": {
        "name": "ipython",
        "version": 3
      },
      "file_extension": ".py",
      "mimetype": "text/x-python",
      "name": "python",
      "nbconvert_exporter": "python",
      "pygments_lexer": "ipython3",
      "version": "3.9.13"
    },
    "orig_nbformat": 4,
    "vscode": {
      "interpreter": {
        "hash": "ad2bdc8ecc057115af97d19610ffacc2b4e99fae6737bb82f5d7fb13d2f2c186"
      }
    },
    "colab": {
      "provenance": []
    }
  },
  "nbformat": 4,
  "nbformat_minor": 0
}