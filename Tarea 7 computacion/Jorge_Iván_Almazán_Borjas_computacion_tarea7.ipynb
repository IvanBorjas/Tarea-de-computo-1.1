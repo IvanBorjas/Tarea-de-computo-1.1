{
  "cells": [
    {
      "cell_type": "markdown",
      "metadata": {
        "id": "xeopUvuUv6Y_"
      },
      "source": [
        "# Tarea 7: Revisión de los conceptos básicos de Python\n",
        "### Computación - 8108\n",
        "#### Facultad de Ciencias - UNAM\n",
        "#### Profesores: C. Fís. Omar Trejo, C. Fís. Iván Jiménez, Pedro Flores-Silva\n",
        "\n",
        "Instrucciones: Este notebook contiene una serie de ejercicios que deben ser resueltos. Cada ejercicio se encuentra en una celda, ya sea de código o Markdown. Debes crear una o dos *celdas debajo de cada ejercicio* con tu(s) respectiva(s) respuestas. No modifiques las celdas originales.\n",
        "Recuerda que para ejecutar el código de una celda, presionar `Ctlr + Enter` o bien el boton de `play` en el editor Jupyter notebook.\n",
        "\n",
        "Cada ejercicio tendrá diferente valor, y se indicará en la celda de éste. La calificación final será la suma de los puntos obtenidos en cada ejercicio. Se calificará considerando la calidad de la respuesta, la claridad de la explicación y la correctitud del código. Por ejemplo, si el código no ejecuta la respuesta correcta pero se da una idea textual, se demuestra que hay comprensión del problema y el código hace sentido para el revisor, se otorgará una calificación parcial. Esto es, las respuestas no solo se evaluarán como bien o mal, sino que se considerará el esfuerzo. \n",
        "\n",
        "El codigo que realices debes comentarlo donde creas necesario, no vale no hacer ningún comentario. Recuerda que los comentarios son importantes para que el código sea legible y entendible, éstos se agregan con el símbolo # ."
      ]
    },
    {
      "cell_type": "markdown",
      "metadata": {
        "id": "KD_X6y96v6ZL"
      },
      "source": [
        "### Ejercicio 2 (1 punto):\n",
        "En una celda Markdown: Coloca tres ejemplos de nombres de variables que no son válidos en python. Explica por qué no son válidos."
      ]
    },
    {
      "cell_type": "markdown",
      "source": [
        "Las variables que no se pueden usar es porque son plabras reservadas, es decir son funciones del lenguaje de programacion si estas se pudieran usar para nombrar variables podría hacer que phyton se \"confunda\". \n",
        "\n",
        "Ejemplos:\n",
        "\n",
        "def,\n",
        "list,\n",
        "in,\n",
        "\n",
        "\n",
        "P.D creo que les falto el ejercicio 1 porque no me aparece o se confundieron en la numeracion"
      ],
      "metadata": {
        "id": "YLvWk6lX88-5"
      }
    },
    {
      "cell_type": "markdown",
      "metadata": {
        "id": "G7t_phOBv6ZM"
      },
      "source": [
        "### Ejercicio 3 (3 puntos):\n",
        "Considera el siguiente polinomio: $f(x) = 10x^2 - 2x$. \n",
        "\n",
        "En una celda Markdown escribe:\n",
        "* Los pasos para encontrar sus raíces a través del método del despeje.\n",
        "* Los pasos para encontrar sus raíces a través del método de la chicharronera.\n",
        "\n",
        "En una celda de código, escribe un programa que compruebe que las raíces del polinomio $f(x) = 10x^2 - 2x$ que tu encontraste son correctas. El programa debe imprimir las raíces en la pantalla. (Debes usar la ecuación que obtuviste al depejar el polinomio).\n",
        "\n",
        "En otra celda de código, escribe un programa que encuentre las raíces del polinomio $f(x) = 10x^2 - 2x$ a través del método de la chicharronera. El programa debe imprimir las raíces en la pantalla. (Debes usar la chicharronera).\n",
        "\n",
        "Considera los signos de la chicharronera como dos operaciones diferentes: $(-)$ y $(+)$."
      ]
    },
    {
      "cell_type": "markdown",
      "source": [
        "\n",
        "DESPEJAR X\n",
        "\n",
        "Para despejar x hay que facotirzar el polinomio de grado dos y como ambos terminos estan muktiplicados por x la factorizamos \n",
        "\n",
        "$x(10x-2) = 0$, una raiz sería $x= 0$ y la otra $10x-2= 0$ , para despejar esta segunda ecuacion solo hay que sumar un 2 de ambos lados de la expresion para eliminar -2 y dividir entre 10 ambos lados para eliminar el 10\n",
        "\n",
        "obtenemos $x= 2/10 = 1/5$\n",
        "\n",
        "\n",
        "CHICHARRONERA\n",
        "\n",
        "\n",
        "\n",
        "Para usar la formula general solo tenemos que sustituir los valores del polinomio en esta, como no tenemos un termino independiente colocaremos que es 0, obtenemos x = $ \\frac { 2±\\sqrt {-2^2 - 4(10)(0)}} { 2(10)} $\n",
        "\n",
        "$x_1= 0$\n",
        "\n",
        "$x_2= \\frac {1}{5} $\n",
        "\n"
      ],
      "metadata": {
        "id": "hmk_r92z_5pB"
      }
    },
    {
      "cell_type": "code",
      "source": [
        "#Despeje\n",
        "\n",
        "a=0\n",
        "#definimos la variable que se evaluara \n",
        "def evalua(n):\n",
        "    x = n\n",
        "    y = x*(5*(x)-1)\n",
        "    if (y==a):\n",
        "        #Si se satisface la igualdad a cero, da el mensaje \"Valor. Sí es raiz\" y si no la cumple muestra \" no es raiz\"\n",
        "        print (x, \"Sí es raíz\")\n",
        "    else:\n",
        "        print (x, \"No es raíz\")\n",
        "evalua(0)\n",
        "evalua(1/5)"
      ],
      "metadata": {
        "colab": {
          "base_uri": "https://localhost:8080/"
        },
        "id": "ozzi7UP7LwbL",
        "outputId": "6c8cdcba-5757-4ba7-e6b3-47e50c00b6aa"
      },
      "execution_count": 26,
      "outputs": [
        {
          "output_type": "stream",
          "name": "stdout",
          "text": [
            "0 Sí es raíz\n",
            "0.2 Sí es raíz\n"
          ]
        }
      ]
    },
    {
      "cell_type": "code",
      "source": [
        "Chicharronera\n",
        "\n",
        "def Chicharronera(a,b,c):\n",
        "#Se ponen los dos resultados de la formula general\n",
        "    x1 = (-b+((b**2-(4*a*c))**(1/2)))/(2*a)\n",
        "    x2 = (-b-((b**2-(4*a*c))**(1/2)))/(2*a)\n",
        "    \n",
        "    #Se imprime x1 y x2\n",
        "    print(x1,x2)\n",
        "#se le dan valores a (a,b,c) para que de un resultado\n",
        "Chicharronera(10,-2,0)\n"
      ],
      "metadata": {
        "colab": {
          "base_uri": "https://localhost:8080/"
        },
        "id": "550CjlpZPM6W",
        "outputId": "218efba6-7ab7-4703-cc91-02b0f714a7fb"
      },
      "execution_count": 24,
      "outputs": [
        {
          "output_type": "stream",
          "name": "stdout",
          "text": [
            "0.2 0.0\n"
          ]
        }
      ]
    },
    {
      "cell_type": "markdown",
      "metadata": {
        "id": "l9YF9nHiv6ZO"
      },
      "source": [
        "### Ejercicio 4 (3 puntos):\n",
        "Caida libre: El gran Galileo Galilei subió la torre de Pisa para determinar el tiempo que tarda un objeto en caer desde una altura $H$ al suelo. Para ello, colocó un objeto de masa $m=100$ kg en la torre y lo dejó caer. El tiempo que tardó en caer fue $t=0.05616667$ minutos.\n",
        "\n",
        "Considerando que la aceleración de la gravedad es $g=9.8$ $\\frac{m}{s^2}$, escribe un programa que determine la altura de la torre de Pisa. El programa debe imprimir la altura en la pantalla.\n",
        "\n",
        "Recuerda que el movimiento de caída libre simplificado cumple la ecuación: $y(t) = H + vt - \\frac{1}{2}gt^2$.\n"
      ]
    },
    {
      "cell_type": "code",
      "source": [
        "#Calcula la altura\n",
        "#definimos g y t\n",
        "g =  9.8\n",
        "t = 3.37\n",
        "#definimos la operación de la altura\n",
        "H = (g * (t**2))/2\n",
        "Altura = H\n",
        "print( Altura, 'm')\n",
        "\n"
      ],
      "metadata": {
        "colab": {
          "base_uri": "https://localhost:8080/"
        },
        "id": "fs8u-O5zIh9i",
        "outputId": "c68a6f77-9106-4f70-89ce-cd3ff9f6fa86"
      },
      "execution_count": 8,
      "outputs": [
        {
          "output_type": "stream",
          "name": "stdout",
          "text": [
            "55.64881000000001 m\n"
          ]
        }
      ]
    },
    {
      "cell_type": "markdown",
      "source": [],
      "metadata": {
        "id": "0Igc7CtB_40T"
      }
    },
    {
      "cell_type": "markdown",
      "metadata": {
        "id": "V-I8UXSov6ZP"
      },
      "source": [
        "### Ejercicio 5 (2 puntos):\n",
        "Considera una lista de números enteros del 0 al 99 : `lista = [0,1, 2, 3, 4, ... , 95, 96, 97, 98, 99]`.\n",
        "En una celda de código, escribe un programa que imprima en la pantalla una la lista que cumpla con las siguientes condiciones:\n",
        "* Los ultimos 10 elementos: debe imprimir lo siguiente `[90, 91, 92, 93, 94, 95, 96, 97, 98, 99]`.\n",
        "* Los primeros 11 elementos: debe imprimir lo siguiente `[0, 1, 2, 3, 4, 5, 6, 7, 8, 9, 10]`.\n",
        "* La serie de elementos de la lista que están entre 60 y 75: debe imprimir lo siguiente `[60, 61, 62, 63, 64, 65, 66, 67, 68, 69, 70, 71, 72, 73, 74, 75]`.\n",
        "* El número 50: debe imprimir lo siguiente `50`.\n",
        "\n",
        "Debes aplicar el concepto de *slicing* para resolver este ejercicio (notación de puntos `[:]`).\n",
        "\n",
        "Puntos menos si se crean listas nuevas para cada caso y/o se seleccionan manualmente los valores.\n",
        "\n",
        "El código de abajo te ayudará a crear la lista del 0 al 99."
      ]
    },
    {
      "cell_type": "code",
      "execution_count": 15,
      "metadata": {
        "id": "A3np45fev6ZR",
        "colab": {
          "base_uri": "https://localhost:8080/"
        },
        "outputId": "f1408bb4-a9d8-49a0-acea-ffc9630c4642"
      },
      "outputs": [
        {
          "output_type": "stream",
          "name": "stdout",
          "text": [
            "[90, 91, 92, 93, 94, 95, 96, 97, 98, 99]\n",
            "[0, 1, 2, 3, 4, 5, 6, 7, 8, 9, 10]\n",
            "[60, 61, 62, 63, 64, 65, 66, 67, 68, 69, 70, 71, 72, 73, 74, 75]\n",
            "[50]\n"
          ]
        }
      ],
      "source": [
        "# se crea una lista\n",
        "lista = list(range(100))\n",
        "#se escriben los intervalos para que se impriman los elementos\n",
        "print(lista[-10:])\n",
        "print(lista[:11])\n",
        "print(lista[60:76])\n",
        "print(lista[50:51])"
      ]
    },
    {
      "cell_type": "markdown",
      "metadata": {
        "id": "Cazpaw4ev6ZT"
      },
      "source": [
        "### Puntos extras, este ejercicio es opcional (5 puntos):\n",
        "Replica el código visto en clase para simular los volados. Discute los resultados obtenidos. ¿Qué observas? ¿Qué puedes concluir? ¿Qué pasa cuando la cantidad de volados es muy pequeña? ¿Qué pasa cuando la cantidad de volados es muy grande?\n",
        "\n",
        "En caso de errores con librerias no encontradas, debes hacer en una celda de código lo siguiente:\n",
        "\n",
        "`!pip install nombre_de_la_libreria`. Por ejemplo para plotly: `!pip install plotly`."
      ]
    },
    {
      "cell_type": "markdown",
      "source": [
        "\n",
        " ¿Qué observas? \n",
        " R = El valor siempre es aleatorio, si el numero de volados es pequeño puede parecer que el 50/50 se respeta  pero no es asi jajaja \n",
        " \n",
        " ¿Qué puedes concluir? R= el 50/50 solo se cumplira si los volados son infinitos \n",
        " \n",
        "  ¿Qué pasa cuando la cantidad de volados es muy pequeña? La diferencia se dispara, es decir si son 10 volados 8 pueden ser aguila y 2 , aunque a veces pueden salir 5 y 5 \n",
        "  \n",
        "  Qué pasa cuando la cantidad de volados es muy grande? R= El porcentaje se acerca más al 50/50 por cada moneda\n",
        "\n"
      ],
      "metadata": {
        "id": "DHHtlAHMSTD-"
      }
    },
    {
      "cell_type": "code",
      "execution_count": 13,
      "metadata": {
        "id": "ANxR9e3Uv6ZU",
        "outputId": "a1e34bb4-85af-45a3-a9f4-efc42666434c",
        "colab": {
          "base_uri": "https://localhost:8080/",
          "height": 611
        }
      },
      "outputs": [
        {
          "output_type": "stream",
          "name": "stdout",
          "text": [
            "Looking in indexes: https://pypi.org/simple, https://us-python.pkg.dev/colab-wheels/public/simple/\n",
            "Requirement already satisfied: plotly in /usr/local/lib/python3.8/dist-packages (5.5.0)\n",
            "Requirement already satisfied: tenacity>=6.2.0 in /usr/local/lib/python3.8/dist-packages (from plotly) (8.1.0)\n",
            "Requirement already satisfied: six in /usr/local/lib/python3.8/dist-packages (from plotly) (1.15.0)\n"
          ]
        },
        {
          "output_type": "display_data",
          "data": {
            "text/html": [
              "<html>\n",
              "<head><meta charset=\"utf-8\" /></head>\n",
              "<body>\n",
              "    <div>            <script src=\"https://cdnjs.cloudflare.com/ajax/libs/mathjax/2.7.5/MathJax.js?config=TeX-AMS-MML_SVG\"></script><script type=\"text/javascript\">if (window.MathJax) {MathJax.Hub.Config({SVG: {font: \"STIX-Web\"}});}</script>                <script type=\"text/javascript\">window.PlotlyConfig = {MathJaxConfig: 'local'};</script>\n",
              "        <script src=\"https://cdn.plot.ly/plotly-2.8.3.min.js\"></script>                <div id=\"9bee5337-7ad1-4477-97da-5c29db9cb36b\" class=\"plotly-graph-div\" style=\"height:525px; width:100%;\"></div>            <script type=\"text/javascript\">                                    window.PLOTLYENV=window.PLOTLYENV || {};                                    if (document.getElementById(\"9bee5337-7ad1-4477-97da-5c29db9cb36b\")) {                    Plotly.newPlot(                        \"9bee5337-7ad1-4477-97da-5c29db9cb36b\",                        [{\"alignmentgroup\":\"True\",\"bingroup\":\"x\",\"hovertemplate\":\"variable=Resultados<br>Resultado=%{x}<br>count=%{y}<extra></extra>\",\"legendgroup\":\"Resultados\",\"marker\":{\"color\":\"#636efa\",\"pattern\":{\"shape\":\"\"}},\"name\":\"Resultados\",\"offsetgroup\":\"Resultados\",\"orientation\":\"v\",\"showlegend\":true,\"texttemplate\":\"%{value}\",\"x\":[\"\\u00c1guila\",\"\\u00c1guila\",\"\\u00c1guila\",\"Sol\",\"\\u00c1guila\",\"Sol\",\"\\u00c1guila\",\"Sol\",\"Sol\",\"Sol\",\"\\u00c1guila\",\"\\u00c1guila\",\"\\u00c1guila\",\"Sol\",\"Sol\",\"Sol\",\"\\u00c1guila\",\"\\u00c1guila\",\"Sol\",\"\\u00c1guila\",\"Sol\",\"Sol\",\"Sol\",\"Sol\",\"Sol\",\"Sol\",\"\\u00c1guila\",\"Sol\",\"Sol\",\"\\u00c1guila\",\"\\u00c1guila\",\"Sol\",\"Sol\",\"\\u00c1guila\",\"Sol\",\"Sol\",\"\\u00c1guila\",\"\\u00c1guila\",\"\\u00c1guila\",\"\\u00c1guila\",\"\\u00c1guila\",\"Sol\",\"\\u00c1guila\",\"\\u00c1guila\",\"Sol\",\"\\u00c1guila\",\"Sol\",\"Sol\",\"\\u00c1guila\",\"\\u00c1guila\",\"Sol\",\"\\u00c1guila\",\"Sol\",\"\\u00c1guila\",\"\\u00c1guila\",\"Sol\",\"\\u00c1guila\",\"\\u00c1guila\",\"\\u00c1guila\",\"\\u00c1guila\",\"\\u00c1guila\",\"Sol\",\"Sol\",\"Sol\",\"Sol\",\"\\u00c1guila\",\"\\u00c1guila\",\"\\u00c1guila\",\"\\u00c1guila\",\"Sol\",\"Sol\",\"\\u00c1guila\",\"Sol\",\"\\u00c1guila\",\"\\u00c1guila\",\"Sol\",\"Sol\",\"Sol\",\"Sol\",\"\\u00c1guila\",\"Sol\",\"\\u00c1guila\",\"\\u00c1guila\",\"Sol\",\"\\u00c1guila\",\"\\u00c1guila\",\"\\u00c1guila\",\"Sol\",\"Sol\",\"Sol\",\"\\u00c1guila\",\"\\u00c1guila\",\"Sol\",\"\\u00c1guila\",\"\\u00c1guila\",\"Sol\",\"Sol\",\"Sol\",\"Sol\",\"Sol\",\"Sol\",\"Sol\",\"\\u00c1guila\",\"\\u00c1guila\",\"\\u00c1guila\",\"\\u00c1guila\",\"Sol\",\"\\u00c1guila\",\"Sol\",\"\\u00c1guila\",\"\\u00c1guila\",\"Sol\",\"\\u00c1guila\",\"Sol\",\"Sol\",\"Sol\",\"Sol\",\"\\u00c1guila\",\"\\u00c1guila\",\"Sol\",\"\\u00c1guila\",\"\\u00c1guila\",\"\\u00c1guila\",\"Sol\",\"\\u00c1guila\",\"Sol\",\"Sol\",\"\\u00c1guila\",\"\\u00c1guila\",\"Sol\",\"Sol\",\"\\u00c1guila\",\"Sol\",\"\\u00c1guila\",\"Sol\",\"\\u00c1guila\",\"Sol\",\"\\u00c1guila\",\"\\u00c1guila\",\"\\u00c1guila\",\"Sol\",\"\\u00c1guila\",\"Sol\",\"\\u00c1guila\",\"Sol\",\"Sol\",\"\\u00c1guila\",\"Sol\",\"Sol\",\"Sol\",\"Sol\",\"\\u00c1guila\",\"\\u00c1guila\",\"\\u00c1guila\",\"Sol\",\"\\u00c1guila\",\"\\u00c1guila\",\"Sol\",\"Sol\",\"\\u00c1guila\",\"Sol\",\"\\u00c1guila\",\"\\u00c1guila\",\"\\u00c1guila\",\"\\u00c1guila\",\"\\u00c1guila\",\"\\u00c1guila\",\"\\u00c1guila\",\"Sol\",\"Sol\",\"Sol\",\"Sol\",\"\\u00c1guila\",\"Sol\",\"Sol\",\"\\u00c1guila\",\"Sol\",\"\\u00c1guila\",\"Sol\",\"Sol\",\"Sol\",\"\\u00c1guila\",\"\\u00c1guila\",\"Sol\",\"Sol\",\"\\u00c1guila\",\"Sol\",\"\\u00c1guila\",\"\\u00c1guila\",\"Sol\",\"Sol\",\"Sol\",\"\\u00c1guila\",\"Sol\",\"Sol\",\"Sol\",\"Sol\",\"Sol\",\"Sol\",\"Sol\",\"Sol\",\"Sol\",\"\\u00c1guila\",\"\\u00c1guila\",\"\\u00c1guila\",\"Sol\",\"Sol\",\"Sol\",\"\\u00c1guila\",\"Sol\",\"\\u00c1guila\",\"\\u00c1guila\",\"\\u00c1guila\",\"\\u00c1guila\",\"\\u00c1guila\",\"\\u00c1guila\",\"Sol\",\"\\u00c1guila\",\"Sol\",\"Sol\",\"\\u00c1guila\",\"Sol\",\"Sol\",\"\\u00c1guila\",\"Sol\",\"Sol\",\"Sol\",\"Sol\",\"Sol\",\"Sol\",\"\\u00c1guila\",\"\\u00c1guila\",\"Sol\",\"\\u00c1guila\",\"\\u00c1guila\",\"\\u00c1guila\",\"\\u00c1guila\",\"\\u00c1guila\",\"\\u00c1guila\",\"Sol\",\"\\u00c1guila\",\"Sol\",\"Sol\",\"\\u00c1guila\",\"Sol\",\"Sol\",\"\\u00c1guila\",\"\\u00c1guila\",\"\\u00c1guila\",\"Sol\",\"Sol\",\"Sol\",\"Sol\",\"\\u00c1guila\",\"Sol\",\"\\u00c1guila\",\"Sol\",\"\\u00c1guila\",\"Sol\",\"\\u00c1guila\",\"Sol\",\"Sol\",\"\\u00c1guila\",\"\\u00c1guila\",\"\\u00c1guila\",\"\\u00c1guila\",\"\\u00c1guila\",\"Sol\",\"\\u00c1guila\",\"\\u00c1guila\",\"\\u00c1guila\",\"\\u00c1guila\",\"Sol\",\"\\u00c1guila\",\"\\u00c1guila\",\"\\u00c1guila\",\"\\u00c1guila\",\"Sol\",\"\\u00c1guila\",\"Sol\",\"Sol\",\"Sol\",\"Sol\",\"\\u00c1guila\",\"\\u00c1guila\",\"\\u00c1guila\",\"\\u00c1guila\",\"Sol\",\"Sol\",\"\\u00c1guila\",\"Sol\",\"Sol\",\"Sol\",\"\\u00c1guila\",\"\\u00c1guila\",\"Sol\",\"Sol\",\"Sol\",\"Sol\",\"\\u00c1guila\",\"Sol\",\"Sol\",\"\\u00c1guila\",\"Sol\",\"\\u00c1guila\",\"Sol\",\"\\u00c1guila\",\"Sol\",\"\\u00c1guila\",\"\\u00c1guila\",\"Sol\",\"\\u00c1guila\",\"Sol\",\"Sol\",\"\\u00c1guila\",\"Sol\",\"Sol\",\"\\u00c1guila\",\"Sol\",\"Sol\",\"Sol\",\"Sol\",\"Sol\",\"Sol\",\"\\u00c1guila\",\"Sol\",\"\\u00c1guila\",\"Sol\",\"Sol\",\"Sol\",\"Sol\",\"\\u00c1guila\",\"Sol\",\"Sol\",\"Sol\",\"Sol\",\"Sol\",\"Sol\",\"Sol\",\"\\u00c1guila\",\"\\u00c1guila\",\"\\u00c1guila\",\"Sol\",\"Sol\",\"\\u00c1guila\",\"Sol\",\"Sol\",\"Sol\",\"Sol\",\"\\u00c1guila\",\"\\u00c1guila\",\"Sol\",\"Sol\",\"Sol\",\"\\u00c1guila\",\"\\u00c1guila\",\"\\u00c1guila\",\"Sol\",\"Sol\",\"Sol\",\"Sol\",\"\\u00c1guila\",\"\\u00c1guila\",\"\\u00c1guila\",\"Sol\",\"\\u00c1guila\",\"\\u00c1guila\",\"\\u00c1guila\",\"\\u00c1guila\",\"Sol\",\"Sol\",\"\\u00c1guila\",\"Sol\",\"\\u00c1guila\",\"Sol\",\"Sol\",\"\\u00c1guila\",\"\\u00c1guila\",\"Sol\",\"Sol\",\"\\u00c1guila\",\"Sol\",\"\\u00c1guila\",\"\\u00c1guila\",\"\\u00c1guila\",\"\\u00c1guila\",\"Sol\",\"Sol\",\"\\u00c1guila\",\"Sol\",\"\\u00c1guila\",\"\\u00c1guila\",\"Sol\",\"Sol\",\"Sol\",\"Sol\",\"Sol\",\"\\u00c1guila\",\"Sol\",\"\\u00c1guila\",\"\\u00c1guila\",\"Sol\",\"Sol\",\"\\u00c1guila\",\"Sol\",\"\\u00c1guila\",\"Sol\",\"\\u00c1guila\",\"\\u00c1guila\",\"Sol\",\"Sol\",\"Sol\",\"\\u00c1guila\",\"Sol\",\"Sol\",\"\\u00c1guila\",\"Sol\",\"Sol\",\"Sol\",\"\\u00c1guila\",\"Sol\",\"Sol\",\"Sol\",\"Sol\",\"Sol\",\"\\u00c1guila\",\"Sol\",\"Sol\",\"Sol\",\"\\u00c1guila\",\"\\u00c1guila\",\"Sol\",\"Sol\",\"\\u00c1guila\",\"Sol\",\"Sol\",\"Sol\",\"Sol\",\"\\u00c1guila\",\"\\u00c1guila\",\"\\u00c1guila\",\"\\u00c1guila\",\"Sol\",\"Sol\",\"\\u00c1guila\",\"Sol\",\"Sol\",\"\\u00c1guila\",\"\\u00c1guila\",\"Sol\",\"\\u00c1guila\",\"Sol\",\"Sol\",\"\\u00c1guila\",\"\\u00c1guila\",\"Sol\",\"\\u00c1guila\",\"\\u00c1guila\",\"\\u00c1guila\",\"Sol\",\"Sol\",\"Sol\",\"Sol\",\"\\u00c1guila\",\"\\u00c1guila\",\"\\u00c1guila\",\"Sol\",\"\\u00c1guila\",\"\\u00c1guila\",\"Sol\",\"\\u00c1guila\",\"\\u00c1guila\",\"\\u00c1guila\",\"Sol\",\"\\u00c1guila\",\"Sol\",\"\\u00c1guila\",\"Sol\",\"Sol\",\"Sol\",\"\\u00c1guila\",\"\\u00c1guila\",\"Sol\",\"\\u00c1guila\",\"Sol\",\"\\u00c1guila\",\"Sol\",\"\\u00c1guila\",\"\\u00c1guila\",\"Sol\",\"Sol\",\"\\u00c1guila\",\"\\u00c1guila\",\"Sol\",\"\\u00c1guila\",\"Sol\",\"Sol\",\"Sol\",\"\\u00c1guila\",\"\\u00c1guila\",\"Sol\",\"\\u00c1guila\",\"Sol\",\"Sol\",\"\\u00c1guila\",\"\\u00c1guila\",\"\\u00c1guila\",\"Sol\",\"Sol\",\"\\u00c1guila\",\"Sol\",\"Sol\",\"\\u00c1guila\",\"\\u00c1guila\",\"Sol\",\"Sol\",\"Sol\",\"Sol\",\"Sol\",\"\\u00c1guila\",\"\\u00c1guila\",\"\\u00c1guila\",\"\\u00c1guila\",\"\\u00c1guila\",\"Sol\",\"\\u00c1guila\",\"\\u00c1guila\",\"\\u00c1guila\",\"Sol\",\"Sol\",\"\\u00c1guila\",\"Sol\",\"Sol\",\"\\u00c1guila\",\"\\u00c1guila\",\"Sol\",\"\\u00c1guila\",\"\\u00c1guila\",\"\\u00c1guila\",\"Sol\",\"\\u00c1guila\",\"Sol\",\"Sol\",\"\\u00c1guila\",\"Sol\",\"Sol\",\"Sol\",\"Sol\",\"\\u00c1guila\",\"Sol\",\"\\u00c1guila\",\"Sol\",\"\\u00c1guila\",\"\\u00c1guila\",\"\\u00c1guila\",\"Sol\",\"Sol\",\"Sol\",\"\\u00c1guila\",\"\\u00c1guila\",\"\\u00c1guila\",\"\\u00c1guila\",\"\\u00c1guila\",\"Sol\",\"Sol\",\"Sol\",\"Sol\",\"Sol\",\"Sol\",\"Sol\",\"Sol\",\"\\u00c1guila\",\"Sol\",\"Sol\",\"Sol\",\"Sol\",\"\\u00c1guila\",\"Sol\",\"Sol\",\"\\u00c1guila\",\"\\u00c1guila\",\"\\u00c1guila\",\"Sol\",\"Sol\",\"\\u00c1guila\",\"Sol\",\"\\u00c1guila\",\"Sol\",\"\\u00c1guila\",\"Sol\",\"\\u00c1guila\",\"\\u00c1guila\",\"Sol\",\"\\u00c1guila\",\"\\u00c1guila\",\"\\u00c1guila\",\"\\u00c1guila\",\"Sol\",\"\\u00c1guila\",\"\\u00c1guila\",\"Sol\",\"Sol\",\"Sol\",\"\\u00c1guila\",\"Sol\",\"\\u00c1guila\",\"Sol\",\"\\u00c1guila\",\"\\u00c1guila\",\"Sol\",\"Sol\",\"Sol\",\"Sol\",\"Sol\",\"Sol\",\"Sol\",\"\\u00c1guila\",\"\\u00c1guila\",\"Sol\",\"Sol\",\"Sol\",\"Sol\",\"Sol\",\"\\u00c1guila\",\"\\u00c1guila\",\"\\u00c1guila\",\"Sol\",\"\\u00c1guila\",\"Sol\",\"Sol\",\"Sol\",\"Sol\",\"Sol\",\"Sol\",\"\\u00c1guila\",\"Sol\",\"Sol\",\"Sol\",\"Sol\",\"\\u00c1guila\",\"Sol\",\"Sol\",\"Sol\",\"\\u00c1guila\",\"\\u00c1guila\",\"\\u00c1guila\",\"\\u00c1guila\",\"\\u00c1guila\",\"\\u00c1guila\",\"\\u00c1guila\",\"\\u00c1guila\",\"Sol\",\"\\u00c1guila\",\"\\u00c1guila\",\"\\u00c1guila\",\"Sol\",\"\\u00c1guila\",\"Sol\",\"\\u00c1guila\",\"\\u00c1guila\",\"Sol\",\"\\u00c1guila\",\"\\u00c1guila\",\"\\u00c1guila\",\"\\u00c1guila\",\"\\u00c1guila\",\"\\u00c1guila\",\"\\u00c1guila\",\"Sol\",\"Sol\",\"Sol\",\"\\u00c1guila\",\"\\u00c1guila\",\"\\u00c1guila\",\"\\u00c1guila\",\"\\u00c1guila\",\"Sol\",\"\\u00c1guila\",\"\\u00c1guila\",\"Sol\",\"\\u00c1guila\",\"Sol\",\"Sol\",\"Sol\",\"Sol\",\"\\u00c1guila\",\"Sol\",\"Sol\",\"Sol\",\"\\u00c1guila\",\"\\u00c1guila\",\"Sol\",\"Sol\",\"\\u00c1guila\",\"Sol\",\"Sol\",\"\\u00c1guila\",\"\\u00c1guila\",\"\\u00c1guila\",\"Sol\",\"Sol\",\"Sol\",\"\\u00c1guila\",\"Sol\",\"\\u00c1guila\",\"Sol\",\"Sol\",\"\\u00c1guila\",\"\\u00c1guila\",\"\\u00c1guila\",\"\\u00c1guila\",\"Sol\",\"Sol\",\"Sol\",\"Sol\",\"Sol\",\"\\u00c1guila\",\"\\u00c1guila\",\"\\u00c1guila\",\"\\u00c1guila\",\"Sol\",\"\\u00c1guila\",\"Sol\",\"\\u00c1guila\",\"\\u00c1guila\",\"Sol\",\"\\u00c1guila\",\"\\u00c1guila\",\"Sol\",\"Sol\",\"Sol\",\"\\u00c1guila\",\"\\u00c1guila\",\"Sol\",\"\\u00c1guila\",\"\\u00c1guila\",\"Sol\",\"Sol\",\"\\u00c1guila\",\"\\u00c1guila\",\"Sol\",\"Sol\",\"\\u00c1guila\",\"\\u00c1guila\",\"Sol\",\"\\u00c1guila\",\"\\u00c1guila\",\"\\u00c1guila\",\"\\u00c1guila\",\"\\u00c1guila\",\"\\u00c1guila\",\"Sol\",\"Sol\",\"Sol\",\"\\u00c1guila\",\"Sol\",\"Sol\",\"\\u00c1guila\",\"\\u00c1guila\",\"\\u00c1guila\",\"Sol\",\"\\u00c1guila\",\"\\u00c1guila\",\"\\u00c1guila\",\"\\u00c1guila\",\"Sol\",\"Sol\",\"\\u00c1guila\",\"\\u00c1guila\",\"\\u00c1guila\",\"\\u00c1guila\",\"\\u00c1guila\",\"Sol\",\"\\u00c1guila\",\"\\u00c1guila\",\"Sol\",\"Sol\",\"Sol\",\"\\u00c1guila\",\"Sol\",\"Sol\",\"\\u00c1guila\",\"\\u00c1guila\",\"Sol\",\"\\u00c1guila\",\"Sol\",\"Sol\",\"\\u00c1guila\",\"Sol\",\"\\u00c1guila\",\"Sol\",\"\\u00c1guila\",\"Sol\",\"\\u00c1guila\",\"Sol\",\"\\u00c1guila\",\"\\u00c1guila\",\"Sol\",\"\\u00c1guila\",\"Sol\",\"Sol\",\"Sol\",\"Sol\",\"Sol\",\"Sol\",\"\\u00c1guila\",\"Sol\",\"Sol\",\"Sol\",\"\\u00c1guila\",\"Sol\",\"Sol\",\"\\u00c1guila\",\"Sol\",\"\\u00c1guila\",\"Sol\",\"Sol\",\"\\u00c1guila\",\"Sol\",\"\\u00c1guila\",\"\\u00c1guila\",\"\\u00c1guila\",\"Sol\",\"Sol\",\"Sol\",\"Sol\",\"\\u00c1guila\",\"Sol\",\"Sol\",\"Sol\",\"\\u00c1guila\",\"Sol\",\"\\u00c1guila\",\"Sol\",\"\\u00c1guila\",\"\\u00c1guila\",\"\\u00c1guila\",\"\\u00c1guila\",\"Sol\",\"\\u00c1guila\",\"Sol\",\"Sol\",\"\\u00c1guila\",\"Sol\",\"\\u00c1guila\",\"Sol\",\"\\u00c1guila\",\"\\u00c1guila\",\"Sol\",\"\\u00c1guila\",\"Sol\",\"Sol\",\"\\u00c1guila\",\"Sol\",\"\\u00c1guila\",\"\\u00c1guila\",\"\\u00c1guila\",\"\\u00c1guila\",\"\\u00c1guila\",\"\\u00c1guila\",\"Sol\",\"Sol\",\"\\u00c1guila\",\"Sol\",\"Sol\",\"\\u00c1guila\",\"Sol\",\"\\u00c1guila\",\"Sol\",\"\\u00c1guila\",\"\\u00c1guila\",\"\\u00c1guila\",\"\\u00c1guila\",\"Sol\",\"Sol\",\"\\u00c1guila\",\"Sol\",\"\\u00c1guila\",\"\\u00c1guila\",\"\\u00c1guila\",\"\\u00c1guila\",\"\\u00c1guila\",\"Sol\",\"Sol\",\"Sol\",\"Sol\",\"Sol\",\"Sol\",\"\\u00c1guila\",\"\\u00c1guila\",\"\\u00c1guila\",\"\\u00c1guila\",\"Sol\",\"\\u00c1guila\",\"\\u00c1guila\",\"Sol\",\"\\u00c1guila\",\"\\u00c1guila\",\"Sol\",\"\\u00c1guila\",\"\\u00c1guila\",\"\\u00c1guila\",\"\\u00c1guila\",\"\\u00c1guila\",\"Sol\",\"Sol\",\"\\u00c1guila\",\"\\u00c1guila\",\"Sol\",\"Sol\",\"Sol\",\"Sol\",\"\\u00c1guila\",\"\\u00c1guila\",\"Sol\",\"Sol\",\"Sol\",\"Sol\",\"Sol\",\"\\u00c1guila\",\"\\u00c1guila\",\"Sol\",\"Sol\",\"\\u00c1guila\",\"Sol\",\"\\u00c1guila\",\"\\u00c1guila\",\"Sol\",\"Sol\",\"\\u00c1guila\",\"\\u00c1guila\",\"\\u00c1guila\",\"\\u00c1guila\",\"Sol\",\"Sol\",\"\\u00c1guila\",\"\\u00c1guila\",\"\\u00c1guila\",\"Sol\",\"Sol\",\"\\u00c1guila\",\"Sol\",\"Sol\",\"Sol\",\"\\u00c1guila\",\"\\u00c1guila\",\"Sol\",\"\\u00c1guila\",\"Sol\",\"\\u00c1guila\",\"\\u00c1guila\",\"\\u00c1guila\",\"Sol\",\"Sol\",\"Sol\",\"\\u00c1guila\",\"\\u00c1guila\",\"Sol\",\"Sol\",\"Sol\",\"\\u00c1guila\",\"Sol\",\"Sol\",\"\\u00c1guila\",\"Sol\",\"Sol\",\"Sol\",\"Sol\",\"\\u00c1guila\",\"Sol\",\"Sol\",\"\\u00c1guila\",\"\\u00c1guila\",\"\\u00c1guila\",\"\\u00c1guila\",\"\\u00c1guila\",\"\\u00c1guila\",\"\\u00c1guila\",\"Sol\",\"Sol\",\"\\u00c1guila\",\"Sol\",\"\\u00c1guila\",\"\\u00c1guila\",\"\\u00c1guila\",\"\\u00c1guila\",\"\\u00c1guila\",\"\\u00c1guila\",\"Sol\",\"Sol\",\"\\u00c1guila\",\"Sol\",\"\\u00c1guila\",\"Sol\",\"\\u00c1guila\",\"\\u00c1guila\",\"Sol\",\"\\u00c1guila\",\"Sol\",\"Sol\"],\"xaxis\":\"x\",\"yaxis\":\"y\",\"type\":\"histogram\"}],                        {\"template\":{\"data\":{\"barpolar\":[{\"marker\":{\"line\":{\"color\":\"white\",\"width\":0.5},\"pattern\":{\"fillmode\":\"overlay\",\"size\":10,\"solidity\":0.2}},\"type\":\"barpolar\"}],\"bar\":[{\"error_x\":{\"color\":\"#2a3f5f\"},\"error_y\":{\"color\":\"#2a3f5f\"},\"marker\":{\"line\":{\"color\":\"white\",\"width\":0.5},\"pattern\":{\"fillmode\":\"overlay\",\"size\":10,\"solidity\":0.2}},\"type\":\"bar\"}],\"carpet\":[{\"aaxis\":{\"endlinecolor\":\"#2a3f5f\",\"gridcolor\":\"#C8D4E3\",\"linecolor\":\"#C8D4E3\",\"minorgridcolor\":\"#C8D4E3\",\"startlinecolor\":\"#2a3f5f\"},\"baxis\":{\"endlinecolor\":\"#2a3f5f\",\"gridcolor\":\"#C8D4E3\",\"linecolor\":\"#C8D4E3\",\"minorgridcolor\":\"#C8D4E3\",\"startlinecolor\":\"#2a3f5f\"},\"type\":\"carpet\"}],\"choropleth\":[{\"colorbar\":{\"outlinewidth\":0,\"ticks\":\"\"},\"type\":\"choropleth\"}],\"contourcarpet\":[{\"colorbar\":{\"outlinewidth\":0,\"ticks\":\"\"},\"type\":\"contourcarpet\"}],\"contour\":[{\"colorbar\":{\"outlinewidth\":0,\"ticks\":\"\"},\"colorscale\":[[0.0,\"#0d0887\"],[0.1111111111111111,\"#46039f\"],[0.2222222222222222,\"#7201a8\"],[0.3333333333333333,\"#9c179e\"],[0.4444444444444444,\"#bd3786\"],[0.5555555555555556,\"#d8576b\"],[0.6666666666666666,\"#ed7953\"],[0.7777777777777778,\"#fb9f3a\"],[0.8888888888888888,\"#fdca26\"],[1.0,\"#f0f921\"]],\"type\":\"contour\"}],\"heatmapgl\":[{\"colorbar\":{\"outlinewidth\":0,\"ticks\":\"\"},\"colorscale\":[[0.0,\"#0d0887\"],[0.1111111111111111,\"#46039f\"],[0.2222222222222222,\"#7201a8\"],[0.3333333333333333,\"#9c179e\"],[0.4444444444444444,\"#bd3786\"],[0.5555555555555556,\"#d8576b\"],[0.6666666666666666,\"#ed7953\"],[0.7777777777777778,\"#fb9f3a\"],[0.8888888888888888,\"#fdca26\"],[1.0,\"#f0f921\"]],\"type\":\"heatmapgl\"}],\"heatmap\":[{\"colorbar\":{\"outlinewidth\":0,\"ticks\":\"\"},\"colorscale\":[[0.0,\"#0d0887\"],[0.1111111111111111,\"#46039f\"],[0.2222222222222222,\"#7201a8\"],[0.3333333333333333,\"#9c179e\"],[0.4444444444444444,\"#bd3786\"],[0.5555555555555556,\"#d8576b\"],[0.6666666666666666,\"#ed7953\"],[0.7777777777777778,\"#fb9f3a\"],[0.8888888888888888,\"#fdca26\"],[1.0,\"#f0f921\"]],\"type\":\"heatmap\"}],\"histogram2dcontour\":[{\"colorbar\":{\"outlinewidth\":0,\"ticks\":\"\"},\"colorscale\":[[0.0,\"#0d0887\"],[0.1111111111111111,\"#46039f\"],[0.2222222222222222,\"#7201a8\"],[0.3333333333333333,\"#9c179e\"],[0.4444444444444444,\"#bd3786\"],[0.5555555555555556,\"#d8576b\"],[0.6666666666666666,\"#ed7953\"],[0.7777777777777778,\"#fb9f3a\"],[0.8888888888888888,\"#fdca26\"],[1.0,\"#f0f921\"]],\"type\":\"histogram2dcontour\"}],\"histogram2d\":[{\"colorbar\":{\"outlinewidth\":0,\"ticks\":\"\"},\"colorscale\":[[0.0,\"#0d0887\"],[0.1111111111111111,\"#46039f\"],[0.2222222222222222,\"#7201a8\"],[0.3333333333333333,\"#9c179e\"],[0.4444444444444444,\"#bd3786\"],[0.5555555555555556,\"#d8576b\"],[0.6666666666666666,\"#ed7953\"],[0.7777777777777778,\"#fb9f3a\"],[0.8888888888888888,\"#fdca26\"],[1.0,\"#f0f921\"]],\"type\":\"histogram2d\"}],\"histogram\":[{\"marker\":{\"pattern\":{\"fillmode\":\"overlay\",\"size\":10,\"solidity\":0.2}},\"type\":\"histogram\"}],\"mesh3d\":[{\"colorbar\":{\"outlinewidth\":0,\"ticks\":\"\"},\"type\":\"mesh3d\"}],\"parcoords\":[{\"line\":{\"colorbar\":{\"outlinewidth\":0,\"ticks\":\"\"}},\"type\":\"parcoords\"}],\"pie\":[{\"automargin\":true,\"type\":\"pie\"}],\"scatter3d\":[{\"line\":{\"colorbar\":{\"outlinewidth\":0,\"ticks\":\"\"}},\"marker\":{\"colorbar\":{\"outlinewidth\":0,\"ticks\":\"\"}},\"type\":\"scatter3d\"}],\"scattercarpet\":[{\"marker\":{\"colorbar\":{\"outlinewidth\":0,\"ticks\":\"\"}},\"type\":\"scattercarpet\"}],\"scattergeo\":[{\"marker\":{\"colorbar\":{\"outlinewidth\":0,\"ticks\":\"\"}},\"type\":\"scattergeo\"}],\"scattergl\":[{\"marker\":{\"colorbar\":{\"outlinewidth\":0,\"ticks\":\"\"}},\"type\":\"scattergl\"}],\"scattermapbox\":[{\"marker\":{\"colorbar\":{\"outlinewidth\":0,\"ticks\":\"\"}},\"type\":\"scattermapbox\"}],\"scatterpolargl\":[{\"marker\":{\"colorbar\":{\"outlinewidth\":0,\"ticks\":\"\"}},\"type\":\"scatterpolargl\"}],\"scatterpolar\":[{\"marker\":{\"colorbar\":{\"outlinewidth\":0,\"ticks\":\"\"}},\"type\":\"scatterpolar\"}],\"scatter\":[{\"marker\":{\"colorbar\":{\"outlinewidth\":0,\"ticks\":\"\"}},\"type\":\"scatter\"}],\"scatterternary\":[{\"marker\":{\"colorbar\":{\"outlinewidth\":0,\"ticks\":\"\"}},\"type\":\"scatterternary\"}],\"surface\":[{\"colorbar\":{\"outlinewidth\":0,\"ticks\":\"\"},\"colorscale\":[[0.0,\"#0d0887\"],[0.1111111111111111,\"#46039f\"],[0.2222222222222222,\"#7201a8\"],[0.3333333333333333,\"#9c179e\"],[0.4444444444444444,\"#bd3786\"],[0.5555555555555556,\"#d8576b\"],[0.6666666666666666,\"#ed7953\"],[0.7777777777777778,\"#fb9f3a\"],[0.8888888888888888,\"#fdca26\"],[1.0,\"#f0f921\"]],\"type\":\"surface\"}],\"table\":[{\"cells\":{\"fill\":{\"color\":\"#EBF0F8\"},\"line\":{\"color\":\"white\"}},\"header\":{\"fill\":{\"color\":\"#C8D4E3\"},\"line\":{\"color\":\"white\"}},\"type\":\"table\"}]},\"layout\":{\"annotationdefaults\":{\"arrowcolor\":\"#2a3f5f\",\"arrowhead\":0,\"arrowwidth\":1},\"autotypenumbers\":\"strict\",\"coloraxis\":{\"colorbar\":{\"outlinewidth\":0,\"ticks\":\"\"}},\"colorscale\":{\"diverging\":[[0,\"#8e0152\"],[0.1,\"#c51b7d\"],[0.2,\"#de77ae\"],[0.3,\"#f1b6da\"],[0.4,\"#fde0ef\"],[0.5,\"#f7f7f7\"],[0.6,\"#e6f5d0\"],[0.7,\"#b8e186\"],[0.8,\"#7fbc41\"],[0.9,\"#4d9221\"],[1,\"#276419\"]],\"sequential\":[[0.0,\"#0d0887\"],[0.1111111111111111,\"#46039f\"],[0.2222222222222222,\"#7201a8\"],[0.3333333333333333,\"#9c179e\"],[0.4444444444444444,\"#bd3786\"],[0.5555555555555556,\"#d8576b\"],[0.6666666666666666,\"#ed7953\"],[0.7777777777777778,\"#fb9f3a\"],[0.8888888888888888,\"#fdca26\"],[1.0,\"#f0f921\"]],\"sequentialminus\":[[0.0,\"#0d0887\"],[0.1111111111111111,\"#46039f\"],[0.2222222222222222,\"#7201a8\"],[0.3333333333333333,\"#9c179e\"],[0.4444444444444444,\"#bd3786\"],[0.5555555555555556,\"#d8576b\"],[0.6666666666666666,\"#ed7953\"],[0.7777777777777778,\"#fb9f3a\"],[0.8888888888888888,\"#fdca26\"],[1.0,\"#f0f921\"]]},\"colorway\":[\"#636efa\",\"#EF553B\",\"#00cc96\",\"#ab63fa\",\"#FFA15A\",\"#19d3f3\",\"#FF6692\",\"#B6E880\",\"#FF97FF\",\"#FECB52\"],\"font\":{\"color\":\"#2a3f5f\"},\"geo\":{\"bgcolor\":\"white\",\"lakecolor\":\"white\",\"landcolor\":\"white\",\"showlakes\":true,\"showland\":true,\"subunitcolor\":\"#C8D4E3\"},\"hoverlabel\":{\"align\":\"left\"},\"hovermode\":\"closest\",\"mapbox\":{\"style\":\"light\"},\"paper_bgcolor\":\"white\",\"plot_bgcolor\":\"white\",\"polar\":{\"angularaxis\":{\"gridcolor\":\"#EBF0F8\",\"linecolor\":\"#EBF0F8\",\"ticks\":\"\"},\"bgcolor\":\"white\",\"radialaxis\":{\"gridcolor\":\"#EBF0F8\",\"linecolor\":\"#EBF0F8\",\"ticks\":\"\"}},\"scene\":{\"xaxis\":{\"backgroundcolor\":\"white\",\"gridcolor\":\"#DFE8F3\",\"gridwidth\":2,\"linecolor\":\"#EBF0F8\",\"showbackground\":true,\"ticks\":\"\",\"zerolinecolor\":\"#EBF0F8\"},\"yaxis\":{\"backgroundcolor\":\"white\",\"gridcolor\":\"#DFE8F3\",\"gridwidth\":2,\"linecolor\":\"#EBF0F8\",\"showbackground\":true,\"ticks\":\"\",\"zerolinecolor\":\"#EBF0F8\"},\"zaxis\":{\"backgroundcolor\":\"white\",\"gridcolor\":\"#DFE8F3\",\"gridwidth\":2,\"linecolor\":\"#EBF0F8\",\"showbackground\":true,\"ticks\":\"\",\"zerolinecolor\":\"#EBF0F8\"}},\"shapedefaults\":{\"line\":{\"color\":\"#2a3f5f\"}},\"ternary\":{\"aaxis\":{\"gridcolor\":\"#DFE8F3\",\"linecolor\":\"#A2B1C6\",\"ticks\":\"\"},\"baxis\":{\"gridcolor\":\"#DFE8F3\",\"linecolor\":\"#A2B1C6\",\"ticks\":\"\"},\"bgcolor\":\"white\",\"caxis\":{\"gridcolor\":\"#DFE8F3\",\"linecolor\":\"#A2B1C6\",\"ticks\":\"\"}},\"title\":{\"x\":0.05},\"xaxis\":{\"automargin\":true,\"gridcolor\":\"#EBF0F8\",\"linecolor\":\"#EBF0F8\",\"ticks\":\"\",\"title\":{\"standoff\":15},\"zerolinecolor\":\"#EBF0F8\",\"zerolinewidth\":2},\"yaxis\":{\"automargin\":true,\"gridcolor\":\"#EBF0F8\",\"linecolor\":\"#EBF0F8\",\"ticks\":\"\",\"title\":{\"standoff\":15},\"zerolinecolor\":\"#EBF0F8\",\"zerolinewidth\":2}}},\"xaxis\":{\"anchor\":\"y\",\"domain\":[0.0,1.0],\"title\":{\"text\":\"Frecuencia\"}},\"yaxis\":{\"anchor\":\"x\",\"domain\":[0.0,1.0],\"title\":{\"text\":\"Resultado\"}},\"legend\":{\"title\":{\"text\":\"variable\"},\"tracegroupgap\":0},\"margin\":{\"t\":60},\"barmode\":\"relative\",\"title\":{\"text\":\"Simulaci\\u00f3n de tirar mil volados\"}},                        {\"responsive\": true}                    ).then(function(){\n",
              "                            \n",
              "var gd = document.getElementById('9bee5337-7ad1-4477-97da-5c29db9cb36b');\n",
              "var x = new MutationObserver(function (mutations, observer) {{\n",
              "        var display = window.getComputedStyle(gd).display;\n",
              "        if (!display || display === 'none') {{\n",
              "            console.log([gd, 'removed!']);\n",
              "            Plotly.purge(gd);\n",
              "            observer.disconnect();\n",
              "        }}\n",
              "}});\n",
              "\n",
              "// Listen for the removal of the full notebook cells\n",
              "var notebookContainer = gd.closest('#notebook-container');\n",
              "if (notebookContainer) {{\n",
              "    x.observe(notebookContainer, {childList: true});\n",
              "}}\n",
              "\n",
              "// Listen for the clearing of the current output cell\n",
              "var outputEl = gd.closest('.output');\n",
              "if (outputEl) {{\n",
              "    x.observe(outputEl, {childList: true});\n",
              "}}\n",
              "\n",
              "                        })                };                            </script>        </div>\n",
              "</body>\n",
              "</html>"
            ]
          },
          "metadata": {}
        }
      ],
      "source": [
        "!pip install plotly\n",
        "import pandas as pd\n",
        "import numpy as np\n",
        "from matplotlib import pyplot as plt\n",
        "import plotly.express as px\n",
        "\n",
        "#Elige un número al azar\n",
        "resultados_de_volados = np.random.randint(low=0, high=2, size=1000)\n",
        "resultados_tabla = pd.DataFrame(resultados_de_volados, columns=['Resultados'])\n",
        "resultados_tabla.Resultados.replace({0:'Águila', 1:'Sol'}, inplace=True)\n",
        "\n",
        "fig = px.histogram(resultados_tabla, text_auto=True, labels={\n",
        "                     \"value\": \"Resultado\",\n",
        "                     \"count\": \"Frecuencia\"}, template='plotly_white')\n",
        "fig.update_layout(\n",
        "    title=\"Simulación de tirar mil volados\",\n",
        "    xaxis_title=\"Frecuencia\",\n",
        "    yaxis_title=\"Resultado\")"
      ]
    }
  ],
  "metadata": {
    "kernelspec": {
      "display_name": "Python 3.9.13 ('base')",
      "language": "python",
      "name": "python3"
    },
    "language_info": {
      "codemirror_mode": {
        "name": "ipython",
        "version": 3
      },
      "file_extension": ".py",
      "mimetype": "text/x-python",
      "name": "python",
      "nbconvert_exporter": "python",
      "pygments_lexer": "ipython3",
      "version": "3.9.13"
    },
    "orig_nbformat": 4,
    "vscode": {
      "interpreter": {
        "hash": "ad2bdc8ecc057115af97d19610ffacc2b4e99fae6737bb82f5d7fb13d2f2c186"
      }
    },
    "colab": {
      "provenance": [],
      "toc_visible": true
    }
  },
  "nbformat": 4,
  "nbformat_minor": 0
}